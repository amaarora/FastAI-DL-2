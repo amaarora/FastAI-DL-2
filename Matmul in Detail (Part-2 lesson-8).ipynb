{
 "cells": [
  {
   "cell_type": "code",
   "execution_count": 1,
   "metadata": {},
   "outputs": [],
   "source": [
    "%load_ext autoreload\n",
    "%autoreload 2\n",
    "\n",
    "%matplotlib inline"
   ]
  },
  {
   "cell_type": "code",
   "execution_count": 2,
   "metadata": {},
   "outputs": [],
   "source": [
    "#export\n",
    "from exp.nb_00 import *\n",
    "import operator\n",
    "\n",
    "def test(a,b,cmp,cname=None):\n",
    "    if cname is None: cname=cmp.__name__\n",
    "    assert cmp(a,b),f\"{cname}:\\n{a}\\n{b}\"\n",
    "\n",
    "def test_eq(a,b): test(a,b,operator.eq,'==')"
   ]
  },
  {
   "cell_type": "code",
   "execution_count": 3,
   "metadata": {},
   "outputs": [],
   "source": [
    "test_eq(TEST,'test')"
   ]
  },
  {
   "cell_type": "code",
   "execution_count": 4,
   "metadata": {},
   "outputs": [],
   "source": [
    "import torch \n",
    "from torch import tensor"
   ]
  },
  {
   "cell_type": "markdown",
   "metadata": {},
   "source": [
    "### Different types of matrix multiplication"
   ]
  },
  {
   "cell_type": "code",
   "execution_count": 5,
   "metadata": {},
   "outputs": [
    {
     "data": {
      "text/plain": [
       "tensor([[  1,  10, 100],\n",
       "        [  2,  20, 200],\n",
       "        [  3,  30, 300]])"
      ]
     },
     "execution_count": 5,
     "metadata": {},
     "output_type": "execute_result"
    }
   ],
   "source": [
    "a = tensor([[1,10,100],[2,20,200],[3,30,300]]); a        "
   ]
  },
  {
   "cell_type": "code",
   "execution_count": 6,
   "metadata": {},
   "outputs": [
    {
     "data": {
      "text/plain": [
       "tensor([[ 1,  2,  3,  4],\n",
       "        [ 4,  5,  6,  7],\n",
       "        [ 7,  8,  9, 10]])"
      ]
     },
     "execution_count": 6,
     "metadata": {},
     "output_type": "execute_result"
    }
   ],
   "source": [
    "b = tensor([[1,2,3,4],[4,5,6,7],[7,8,9,10]]); b"
   ]
  },
  {
   "cell_type": "markdown",
   "metadata": {},
   "source": [
    "**Using FOR loops**"
   ]
  },
  {
   "cell_type": "code",
   "execution_count": 7,
   "metadata": {},
   "outputs": [],
   "source": [
    "def matmul1(a,b):\n",
    "    ar,ac = a.shape\n",
    "    br,bc = b.shape\n",
    "    assert ac==br\n",
    "    c = torch.zeros(ar, bc)\n",
    "    for i in range(ar):\n",
    "        for j in range(bc):\n",
    "            for k in range(ac): #or br\n",
    "                c[i,j] += a[i,k]*b[k,j]\n",
    "                print(f\"i:{i},j:{j},k:{k}\\na:{a[i,k]},b:{b[k,j]}\")\n",
    "                print(c)\n",
    "                print(\"---\")\n",
    "    return c"
   ]
  },
  {
   "cell_type": "code",
   "execution_count": 8,
   "metadata": {
    "scrolled": false
   },
   "outputs": [
    {
     "name": "stdout",
     "output_type": "stream",
     "text": [
      "i:0,j:0,k:0\n",
      "a:1,b:1\n",
      "tensor([[1., 0., 0., 0.],\n",
      "        [0., 0., 0., 0.],\n",
      "        [0., 0., 0., 0.]])\n",
      "---\n",
      "i:0,j:0,k:1\n",
      "a:10,b:4\n",
      "tensor([[41.,  0.,  0.,  0.],\n",
      "        [ 0.,  0.,  0.,  0.],\n",
      "        [ 0.,  0.,  0.,  0.]])\n",
      "---\n",
      "i:0,j:0,k:2\n",
      "a:100,b:7\n",
      "tensor([[741.,   0.,   0.,   0.],\n",
      "        [  0.,   0.,   0.,   0.],\n",
      "        [  0.,   0.,   0.,   0.]])\n",
      "---\n",
      "i:0,j:1,k:0\n",
      "a:1,b:2\n",
      "tensor([[741.,   2.,   0.,   0.],\n",
      "        [  0.,   0.,   0.,   0.],\n",
      "        [  0.,   0.,   0.,   0.]])\n",
      "---\n",
      "i:0,j:1,k:1\n",
      "a:10,b:5\n",
      "tensor([[741.,  52.,   0.,   0.],\n",
      "        [  0.,   0.,   0.,   0.],\n",
      "        [  0.,   0.,   0.,   0.]])\n",
      "---\n",
      "i:0,j:1,k:2\n",
      "a:100,b:8\n",
      "tensor([[741., 852.,   0.,   0.],\n",
      "        [  0.,   0.,   0.,   0.],\n",
      "        [  0.,   0.,   0.,   0.]])\n",
      "---\n",
      "i:0,j:2,k:0\n",
      "a:1,b:3\n",
      "tensor([[741., 852.,   3.,   0.],\n",
      "        [  0.,   0.,   0.,   0.],\n",
      "        [  0.,   0.,   0.,   0.]])\n",
      "---\n",
      "i:0,j:2,k:1\n",
      "a:10,b:6\n",
      "tensor([[741., 852.,  63.,   0.],\n",
      "        [  0.,   0.,   0.,   0.],\n",
      "        [  0.,   0.,   0.,   0.]])\n",
      "---\n",
      "i:0,j:2,k:2\n",
      "a:100,b:9\n",
      "tensor([[741., 852., 963.,   0.],\n",
      "        [  0.,   0.,   0.,   0.],\n",
      "        [  0.,   0.,   0.,   0.]])\n",
      "---\n",
      "i:0,j:3,k:0\n",
      "a:1,b:4\n",
      "tensor([[741., 852., 963.,   4.],\n",
      "        [  0.,   0.,   0.,   0.],\n",
      "        [  0.,   0.,   0.,   0.]])\n",
      "---\n",
      "i:0,j:3,k:1\n",
      "a:10,b:7\n",
      "tensor([[741., 852., 963.,  74.],\n",
      "        [  0.,   0.,   0.,   0.],\n",
      "        [  0.,   0.,   0.,   0.]])\n",
      "---\n",
      "i:0,j:3,k:2\n",
      "a:100,b:10\n",
      "tensor([[ 741.,  852.,  963., 1074.],\n",
      "        [   0.,    0.,    0.,    0.],\n",
      "        [   0.,    0.,    0.,    0.]])\n",
      "---\n",
      "i:1,j:0,k:0\n",
      "a:2,b:1\n",
      "tensor([[ 741.,  852.,  963., 1074.],\n",
      "        [   2.,    0.,    0.,    0.],\n",
      "        [   0.,    0.,    0.,    0.]])\n",
      "---\n",
      "i:1,j:0,k:1\n",
      "a:20,b:4\n",
      "tensor([[ 741.,  852.,  963., 1074.],\n",
      "        [  82.,    0.,    0.,    0.],\n",
      "        [   0.,    0.,    0.,    0.]])\n",
      "---\n",
      "i:1,j:0,k:2\n",
      "a:200,b:7\n",
      "tensor([[ 741.,  852.,  963., 1074.],\n",
      "        [1482.,    0.,    0.,    0.],\n",
      "        [   0.,    0.,    0.,    0.]])\n",
      "---\n",
      "i:1,j:1,k:0\n",
      "a:2,b:2\n",
      "tensor([[ 741.,  852.,  963., 1074.],\n",
      "        [1482.,    4.,    0.,    0.],\n",
      "        [   0.,    0.,    0.,    0.]])\n",
      "---\n",
      "i:1,j:1,k:1\n",
      "a:20,b:5\n",
      "tensor([[ 741.,  852.,  963., 1074.],\n",
      "        [1482.,  104.,    0.,    0.],\n",
      "        [   0.,    0.,    0.,    0.]])\n",
      "---\n",
      "i:1,j:1,k:2\n",
      "a:200,b:8\n",
      "tensor([[ 741.,  852.,  963., 1074.],\n",
      "        [1482., 1704.,    0.,    0.],\n",
      "        [   0.,    0.,    0.,    0.]])\n",
      "---\n",
      "i:1,j:2,k:0\n",
      "a:2,b:3\n",
      "tensor([[ 741.,  852.,  963., 1074.],\n",
      "        [1482., 1704.,    6.,    0.],\n",
      "        [   0.,    0.,    0.,    0.]])\n",
      "---\n",
      "i:1,j:2,k:1\n",
      "a:20,b:6\n",
      "tensor([[ 741.,  852.,  963., 1074.],\n",
      "        [1482., 1704.,  126.,    0.],\n",
      "        [   0.,    0.,    0.,    0.]])\n",
      "---\n",
      "i:1,j:2,k:2\n",
      "a:200,b:9\n",
      "tensor([[ 741.,  852.,  963., 1074.],\n",
      "        [1482., 1704., 1926.,    0.],\n",
      "        [   0.,    0.,    0.,    0.]])\n",
      "---\n",
      "i:1,j:3,k:0\n",
      "a:2,b:4\n",
      "tensor([[ 741.,  852.,  963., 1074.],\n",
      "        [1482., 1704., 1926.,    8.],\n",
      "        [   0.,    0.,    0.,    0.]])\n",
      "---\n",
      "i:1,j:3,k:1\n",
      "a:20,b:7\n",
      "tensor([[ 741.,  852.,  963., 1074.],\n",
      "        [1482., 1704., 1926.,  148.],\n",
      "        [   0.,    0.,    0.,    0.]])\n",
      "---\n",
      "i:1,j:3,k:2\n",
      "a:200,b:10\n",
      "tensor([[ 741.,  852.,  963., 1074.],\n",
      "        [1482., 1704., 1926., 2148.],\n",
      "        [   0.,    0.,    0.,    0.]])\n",
      "---\n",
      "i:2,j:0,k:0\n",
      "a:3,b:1\n",
      "tensor([[ 741.,  852.,  963., 1074.],\n",
      "        [1482., 1704., 1926., 2148.],\n",
      "        [   3.,    0.,    0.,    0.]])\n",
      "---\n",
      "i:2,j:0,k:1\n",
      "a:30,b:4\n",
      "tensor([[ 741.,  852.,  963., 1074.],\n",
      "        [1482., 1704., 1926., 2148.],\n",
      "        [ 123.,    0.,    0.,    0.]])\n",
      "---\n",
      "i:2,j:0,k:2\n",
      "a:300,b:7\n",
      "tensor([[ 741.,  852.,  963., 1074.],\n",
      "        [1482., 1704., 1926., 2148.],\n",
      "        [2223.,    0.,    0.,    0.]])\n",
      "---\n",
      "i:2,j:1,k:0\n",
      "a:3,b:2\n",
      "tensor([[ 741.,  852.,  963., 1074.],\n",
      "        [1482., 1704., 1926., 2148.],\n",
      "        [2223.,    6.,    0.,    0.]])\n",
      "---\n",
      "i:2,j:1,k:1\n",
      "a:30,b:5\n",
      "tensor([[ 741.,  852.,  963., 1074.],\n",
      "        [1482., 1704., 1926., 2148.],\n",
      "        [2223.,  156.,    0.,    0.]])\n",
      "---\n",
      "i:2,j:1,k:2\n",
      "a:300,b:8\n",
      "tensor([[ 741.,  852.,  963., 1074.],\n",
      "        [1482., 1704., 1926., 2148.],\n",
      "        [2223., 2556.,    0.,    0.]])\n",
      "---\n",
      "i:2,j:2,k:0\n",
      "a:3,b:3\n",
      "tensor([[ 741.,  852.,  963., 1074.],\n",
      "        [1482., 1704., 1926., 2148.],\n",
      "        [2223., 2556.,    9.,    0.]])\n",
      "---\n",
      "i:2,j:2,k:1\n",
      "a:30,b:6\n",
      "tensor([[ 741.,  852.,  963., 1074.],\n",
      "        [1482., 1704., 1926., 2148.],\n",
      "        [2223., 2556.,  189.,    0.]])\n",
      "---\n",
      "i:2,j:2,k:2\n",
      "a:300,b:9\n",
      "tensor([[ 741.,  852.,  963., 1074.],\n",
      "        [1482., 1704., 1926., 2148.],\n",
      "        [2223., 2556., 2889.,    0.]])\n",
      "---\n",
      "i:2,j:3,k:0\n",
      "a:3,b:4\n",
      "tensor([[ 741.,  852.,  963., 1074.],\n",
      "        [1482., 1704., 1926., 2148.],\n",
      "        [2223., 2556., 2889.,   12.]])\n",
      "---\n",
      "i:2,j:3,k:1\n",
      "a:30,b:7\n",
      "tensor([[ 741.,  852.,  963., 1074.],\n",
      "        [1482., 1704., 1926., 2148.],\n",
      "        [2223., 2556., 2889.,  222.]])\n",
      "---\n",
      "i:2,j:3,k:2\n",
      "a:300,b:10\n",
      "tensor([[ 741.,  852.,  963., 1074.],\n",
      "        [1482., 1704., 1926., 2148.],\n",
      "        [2223., 2556., 2889., 3222.]])\n",
      "---\n"
     ]
    },
    {
     "data": {
      "text/plain": [
       "tensor([[ 741.,  852.,  963., 1074.],\n",
       "        [1482., 1704., 1926., 2148.],\n",
       "        [2223., 2556., 2889., 3222.]])"
      ]
     },
     "execution_count": 8,
     "metadata": {},
     "output_type": "execute_result"
    }
   ],
   "source": [
    "matmul1(a,b)"
   ]
  },
  {
   "cell_type": "markdown",
   "metadata": {},
   "source": [
    "**Element-wise operations**"
   ]
  },
  {
   "cell_type": "code",
   "execution_count": 9,
   "metadata": {},
   "outputs": [],
   "source": [
    "def matmul2(a,b):\n",
    "    ar,ac = a.shape\n",
    "    br,bc = b.shape\n",
    "    assert ac==br\n",
    "    c = torch.zeros(ar,bc)\n",
    "    for i in range(ar):\n",
    "        for j in range(bc):\n",
    "            c[i,j] = (a[i,:]*b[:,j]).sum()\n",
    "            print(f\"i:{i},j:{j}\\na:{a[i,:]},b:{b[:,j]}\")\n",
    "            print(c)\n",
    "            print(\"---\")\n",
    "    return c"
   ]
  },
  {
   "cell_type": "code",
   "execution_count": 10,
   "metadata": {},
   "outputs": [
    {
     "name": "stdout",
     "output_type": "stream",
     "text": [
      "i:0,j:0\n",
      "a:tensor([  1,  10, 100]),b:tensor([1, 4, 7])\n",
      "tensor([[741.,   0.,   0.,   0.],\n",
      "        [  0.,   0.,   0.,   0.],\n",
      "        [  0.,   0.,   0.,   0.]])\n",
      "---\n",
      "i:0,j:1\n",
      "a:tensor([  1,  10, 100]),b:tensor([2, 5, 8])\n",
      "tensor([[741., 852.,   0.,   0.],\n",
      "        [  0.,   0.,   0.,   0.],\n",
      "        [  0.,   0.,   0.,   0.]])\n",
      "---\n",
      "i:0,j:2\n",
      "a:tensor([  1,  10, 100]),b:tensor([3, 6, 9])\n",
      "tensor([[741., 852., 963.,   0.],\n",
      "        [  0.,   0.,   0.,   0.],\n",
      "        [  0.,   0.,   0.,   0.]])\n",
      "---\n",
      "i:0,j:3\n",
      "a:tensor([  1,  10, 100]),b:tensor([ 4,  7, 10])\n",
      "tensor([[ 741.,  852.,  963., 1074.],\n",
      "        [   0.,    0.,    0.,    0.],\n",
      "        [   0.,    0.,    0.,    0.]])\n",
      "---\n",
      "i:1,j:0\n",
      "a:tensor([  2,  20, 200]),b:tensor([1, 4, 7])\n",
      "tensor([[ 741.,  852.,  963., 1074.],\n",
      "        [1482.,    0.,    0.,    0.],\n",
      "        [   0.,    0.,    0.,    0.]])\n",
      "---\n",
      "i:1,j:1\n",
      "a:tensor([  2,  20, 200]),b:tensor([2, 5, 8])\n",
      "tensor([[ 741.,  852.,  963., 1074.],\n",
      "        [1482., 1704.,    0.,    0.],\n",
      "        [   0.,    0.,    0.,    0.]])\n",
      "---\n",
      "i:1,j:2\n",
      "a:tensor([  2,  20, 200]),b:tensor([3, 6, 9])\n",
      "tensor([[ 741.,  852.,  963., 1074.],\n",
      "        [1482., 1704., 1926.,    0.],\n",
      "        [   0.,    0.,    0.,    0.]])\n",
      "---\n",
      "i:1,j:3\n",
      "a:tensor([  2,  20, 200]),b:tensor([ 4,  7, 10])\n",
      "tensor([[ 741.,  852.,  963., 1074.],\n",
      "        [1482., 1704., 1926., 2148.],\n",
      "        [   0.,    0.,    0.,    0.]])\n",
      "---\n",
      "i:2,j:0\n",
      "a:tensor([  3,  30, 300]),b:tensor([1, 4, 7])\n",
      "tensor([[ 741.,  852.,  963., 1074.],\n",
      "        [1482., 1704., 1926., 2148.],\n",
      "        [2223.,    0.,    0.,    0.]])\n",
      "---\n",
      "i:2,j:1\n",
      "a:tensor([  3,  30, 300]),b:tensor([2, 5, 8])\n",
      "tensor([[ 741.,  852.,  963., 1074.],\n",
      "        [1482., 1704., 1926., 2148.],\n",
      "        [2223., 2556.,    0.,    0.]])\n",
      "---\n",
      "i:2,j:2\n",
      "a:tensor([  3,  30, 300]),b:tensor([3, 6, 9])\n",
      "tensor([[ 741.,  852.,  963., 1074.],\n",
      "        [1482., 1704., 1926., 2148.],\n",
      "        [2223., 2556., 2889.,    0.]])\n",
      "---\n",
      "i:2,j:3\n",
      "a:tensor([  3,  30, 300]),b:tensor([ 4,  7, 10])\n",
      "tensor([[ 741.,  852.,  963., 1074.],\n",
      "        [1482., 1704., 1926., 2148.],\n",
      "        [2223., 2556., 2889., 3222.]])\n",
      "---\n"
     ]
    },
    {
     "data": {
      "text/plain": [
       "tensor([[ 741.,  852.,  963., 1074.],\n",
       "        [1482., 1704., 1926., 2148.],\n",
       "        [2223., 2556., 2889., 3222.]])"
      ]
     },
     "execution_count": 10,
     "metadata": {},
     "output_type": "execute_result"
    }
   ],
   "source": [
    "matmul2(a,b)"
   ]
  },
  {
   "cell_type": "markdown",
   "metadata": {},
   "source": [
    "**Broadcasting**"
   ]
  },
  {
   "cell_type": "code",
   "execution_count": 11,
   "metadata": {},
   "outputs": [
    {
     "data": {
      "text/plain": [
       "tensor([  1,  10, 100])"
      ]
     },
     "execution_count": 11,
     "metadata": {},
     "output_type": "execute_result"
    }
   ],
   "source": [
    "a[0]"
   ]
  },
  {
   "cell_type": "code",
   "execution_count": 12,
   "metadata": {},
   "outputs": [
    {
     "data": {
      "text/plain": [
       "tensor([[  1],\n",
       "        [ 10],\n",
       "        [100]])"
      ]
     },
     "execution_count": 12,
     "metadata": {},
     "output_type": "execute_result"
    }
   ],
   "source": [
    "a[0,:].unsqueeze(-1)"
   ]
  },
  {
   "cell_type": "code",
   "execution_count": 13,
   "metadata": {},
   "outputs": [
    {
     "data": {
      "text/plain": [
       "tensor([[  1,   1,   1,   1],\n",
       "        [ 10,  10,  10,  10],\n",
       "        [100, 100, 100, 100]])"
      ]
     },
     "execution_count": 13,
     "metadata": {},
     "output_type": "execute_result"
    }
   ],
   "source": [
    "a[0,:].unsqueeze(-1).expand_as(b)"
   ]
  },
  {
   "cell_type": "code",
   "execution_count": 14,
   "metadata": {},
   "outputs": [
    {
     "data": {
      "text/plain": [
       "tensor([[   1,    2,    3,    4],\n",
       "        [  40,   50,   60,   70],\n",
       "        [ 700,  800,  900, 1000]])"
      ]
     },
     "execution_count": 14,
     "metadata": {},
     "output_type": "execute_result"
    }
   ],
   "source": [
    "a[0,:].unsqueeze(-1).expand_as(b)*b"
   ]
  },
  {
   "cell_type": "code",
   "execution_count": 15,
   "metadata": {},
   "outputs": [
    {
     "data": {
      "text/plain": [
       "tensor([ 741,  852,  963, 1074])"
      ]
     },
     "execution_count": 15,
     "metadata": {},
     "output_type": "execute_result"
    }
   ],
   "source": [
    "(a[0,:].unsqueeze(-1).expand_as(b)*b).sum(dim=0)"
   ]
  },
  {
   "cell_type": "code",
   "execution_count": 16,
   "metadata": {},
   "outputs": [],
   "source": [
    "def matmul3(a,b):\n",
    "    ar,ac = a.shape\n",
    "    br,bc = b.shape\n",
    "    assert ac==br\n",
    "    c = torch.zeros(ar,bc)\n",
    "    for i in range(ar):\n",
    "        c[i] = (a[i,:].unsqueeze(-1).expand_as(b)*b).sum(dim=0)\n",
    "        print(f\"i:{i}\")\n",
    "        print(c)\n",
    "    return c"
   ]
  },
  {
   "cell_type": "code",
   "execution_count": 17,
   "metadata": {},
   "outputs": [
    {
     "name": "stdout",
     "output_type": "stream",
     "text": [
      "i:0\n",
      "tensor([[ 741.,  852.,  963., 1074.],\n",
      "        [   0.,    0.,    0.,    0.],\n",
      "        [   0.,    0.,    0.,    0.]])\n",
      "i:1\n",
      "tensor([[ 741.,  852.,  963., 1074.],\n",
      "        [1482., 1704., 1926., 2148.],\n",
      "        [   0.,    0.,    0.,    0.]])\n",
      "i:2\n",
      "tensor([[ 741.,  852.,  963., 1074.],\n",
      "        [1482., 1704., 1926., 2148.],\n",
      "        [2223., 2556., 2889., 3222.]])\n"
     ]
    },
    {
     "data": {
      "text/plain": [
       "tensor([[ 741.,  852.,  963., 1074.],\n",
       "        [1482., 1704., 1926., 2148.],\n",
       "        [2223., 2556., 2889., 3222.]])"
      ]
     },
     "execution_count": 17,
     "metadata": {},
     "output_type": "execute_result"
    }
   ],
   "source": [
    "matmul3(a,b)"
   ]
  },
  {
   "cell_type": "markdown",
   "metadata": {},
   "source": [
    "**Using PyTorch matmul**"
   ]
  },
  {
   "cell_type": "code",
   "execution_count": 18,
   "metadata": {},
   "outputs": [
    {
     "data": {
      "text/plain": [
       "tensor([[ 741,  852,  963, 1074],\n",
       "        [1482, 1704, 1926, 2148],\n",
       "        [2223, 2556, 2889, 3222]])"
      ]
     },
     "execution_count": 18,
     "metadata": {},
     "output_type": "execute_result"
    }
   ],
   "source": [
    "a.matmul(b)"
   ]
  }
 ],
 "metadata": {
  "kernelspec": {
   "display_name": "Python 3",
   "language": "python",
   "name": "python3"
  },
  "language_info": {
   "codemirror_mode": {
    "name": "ipython",
    "version": 3
   },
   "file_extension": ".py",
   "mimetype": "text/x-python",
   "name": "python",
   "nbconvert_exporter": "python",
   "pygments_lexer": "ipython3",
   "version": "3.6.5"
  },
  "toc": {
   "base_numbering": 1,
   "nav_menu": {},
   "number_sections": true,
   "sideBar": true,
   "skip_h1_title": false,
   "title_cell": "Table of Contents",
   "title_sidebar": "Contents",
   "toc_cell": false,
   "toc_position": {},
   "toc_section_display": true,
   "toc_window_display": false
  },
  "varInspector": {
   "cols": {
    "lenName": 16,
    "lenType": 16,
    "lenVar": 40
   },
   "kernels_config": {
    "python": {
     "delete_cmd_postfix": "",
     "delete_cmd_prefix": "del ",
     "library": "var_list.py",
     "varRefreshCmd": "print(var_dic_list())"
    },
    "r": {
     "delete_cmd_postfix": ") ",
     "delete_cmd_prefix": "rm(",
     "library": "var_list.r",
     "varRefreshCmd": "cat(var_dic_list()) "
    }
   },
   "types_to_exclude": [
    "module",
    "function",
    "builtin_function_or_method",
    "instance",
    "_Feature"
   ],
   "window_display": false
  }
 },
 "nbformat": 4,
 "nbformat_minor": 2
}
